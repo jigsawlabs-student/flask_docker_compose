{
 "cells": [
  {
   "cell_type": "markdown",
   "metadata": {},
   "source": [
    "# Flask Docker Compose"
   ]
  },
  {
   "cell_type": "markdown",
   "metadata": {},
   "source": [
    "### Introduction\n",
    "\n",
    "So far we have been using docker to manage and deploy single services.  For example, managing a jupyter notebook could be considered a single service.  Or scraping a website could be considered a single service.  \n",
    "\n",
    "However when we move onto something like a web application, there are multiple services we can think of operating.  For example, just hosting the backend of the website could be a service, and the databasem could be another service, as could the task of gathering data, by say scraping other websites could be a service.   \n",
    "\n",
    "With docker, we already know how to build these separate services.  The benefit of docker compose is that it is an easy mechanism to allow these services to talk to each other."
   ]
  },
  {
   "cell_type": "markdown",
   "metadata": {},
   "source": [
    "### Using Docker Compose"
   ]
  },
  {
   "cell_type": "markdown",
   "metadata": {},
   "source": [
    "To get started let's just use docker-compose with a single service, our flask application.  We can do so by creating a `docker-compose.yml` file in `services/` folder."
   ]
  },
  {
   "cell_type": "markdown",
   "metadata": {},
   "source": [
    "`services/docker-compose.yml`\n",
    "\n",
    "```python\n",
    "version: '3.7'\n",
    "services:\n",
    "  users:\n",
    "    build:\n",
    "      context: ./web-app\n",
    "      dockerfile: Dockerfile\n",
    "    ports:\n",
    "      - 3000:5000\n",
    "    environment:\n",
    "      - FLASK_APP=project/__init__.py\n",
    "      - FLASK_ENV=development\n",
    "      - APP_SETTINGS=project.config.DevelopmentConfig\n",
    "```"
   ]
  },
  {
   "cell_type": "markdown",
   "metadata": {},
   "source": [
    "With this work, we can accomplish the same work that we accomplished with running our docker run command of:\n",
    "\n",
    "`docker run -p 3000:5000 -e FLASK_APP=project/__init__.py jek2141/flask-api-docker`"
   ]
  },
  {
   "cell_type": "markdown",
   "metadata": {},
   "source": [
    "Ok, let's run it."
   ]
  },
  {
   "cell_type": "markdown",
   "metadata": {},
   "source": [
    "`docker-compose up`\n",
    "\n",
    "```\n",
    "Starting services_users_1 ... done\n",
    "Attaching to services_users_1\n",
    "users_1  |  * Serving Flask app \"project/__init__.py\" (lazy loading)\n",
    "```"
   ]
  },
  {
   "cell_type": "markdown",
   "metadata": {},
   "source": [
    "If we visit, `0.0.0.0:3000` we'll see that this accomplished the same as our longer line."
   ]
  },
  {
   "cell_type": "markdown",
   "metadata": {},
   "source": [
    "### Understanding our docker-compose file"
   ]
  },
  {
   "cell_type": "markdown",
   "metadata": {},
   "source": [
    "Now looking at the `docker-compose.yml` file, a lot of it is fairly intuitive.\n",
    "\n",
    "```python\n",
    "version: '3.7'\n",
    "services:\n",
    "  users:\n",
    "    build:\n",
    "      context: ./web-app\n",
    "      dockerfile: Dockerfile\n",
    "    ports:\n",
    "      - 3000:5000\n",
    "    environment:\n",
    "      - FLASK_APP=project/__init__.py\n",
    "      - FLASK_ENV=development\n",
    "      - APP_SETTINGS=project.config.DevelopmentConfig\n",
    "```"
   ]
  },
  {
   "cell_type": "markdown",
   "metadata": {},
   "source": [
    "Let's break it down:"
   ]
  },
  {
   "cell_type": "markdown",
   "metadata": {},
   "source": [
    "The `version` specifies the version number of docker-compose that is being used.  Then we specify each of the `services`.  For us, we have a `users` service, where we describe the `build`, `ports` and the `environment`.  The `build` key just specifies the file used to build the Dockerfile.  Here, relative to the location of the `docker-compose.yml` file, it's `./users/Dockerfile`.  The ports, are where we specify the mapping, 3000:5000, and `environment` is used for the environment variables.\n",
    "\n",
    "The hyphens that we see under `environment` is to indicate that what follows is a list, and we precede each element in the list with a `-`.  So we have a list of environment variables, so far of `FLASK_APP` and `FLASK_ENV`.  Using the `-` to indicate list elements is a yaml convention.\n",
    "\n",
    "So using this file, we have properly translated arguments of our `docker run` command to components of our `docker-compose.yml` file. \n",
    "\n",
    "Now, let's make use of the `APP_SETTINGS` environment variable.  We use this to load up different setting configurations based on if we are in development or production.  To put this into effect, we update our `__init__.py` file to the following:"
   ]
  },
  {
   "cell_type": "markdown",
   "metadata": {},
   "source": [
    "```python\n",
    "import os\n",
    "from flask import Flask, jsonify\n",
    "from flask_restful import Resource, Api\n",
    "\n",
    "app = Flask(__name__)\n",
    "\n",
    "api = Api(app)\n",
    "\n",
    "app_settings = os.getenv('APP_SETTINGS')  \n",
    "app.config.from_object(app_settings)      \n",
    "```"
   ]
  },
  {
   "cell_type": "markdown",
   "metadata": {},
   "source": [
    "And this will load up the relevant settings defined in the `project/config.py` file."
   ]
  },
  {
   "cell_type": "markdown",
   "metadata": {},
   "source": [
    "### Bind Mounting with Docker Compose"
   ]
  },
  {
   "cell_type": "markdown",
   "metadata": {},
   "source": [
    "```python\n",
    "version: '3.7'\n",
    "services:\n",
    "  web:\n",
    "    build:\n",
    "      context: ./web-app\n",
    "      dockerfile: Dockerfile\n",
    "    ports:\n",
    "      - 3000:5000\n",
    "    environment:\n",
    "      - FLASK_APP=project/__init__.py\n",
    "      - FLASK_ENV=development\n",
    "      - APP_SETTINGS=project.config.DevelopmentConfig\n",
    "    volumes:\n",
    "      - .:/web/flask\n",
    "```"
   ]
  },
  {
   "cell_type": "markdown",
   "metadata": {},
   "source": [
    "### Summary"
   ]
  },
  {
   "cell_type": "code",
   "execution_count": null,
   "metadata": {},
   "outputs": [],
   "source": []
  }
 ],
 "metadata": {
  "kernelspec": {
   "display_name": "Python 3",
   "language": "python",
   "name": "python3"
  },
  "language_info": {
   "codemirror_mode": {
    "name": "ipython",
    "version": 3
   },
   "file_extension": ".py",
   "mimetype": "text/x-python",
   "name": "python",
   "nbconvert_exporter": "python",
   "pygments_lexer": "ipython3",
   "version": "3.8.3"
  }
 },
 "nbformat": 4,
 "nbformat_minor": 4
}
