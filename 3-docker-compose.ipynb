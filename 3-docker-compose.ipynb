{
 "cells": [
  {
   "cell_type": "markdown",
   "metadata": {},
   "source": [
    "# Automating Scripts with Docker Compose"
   ]
  },
  {
   "cell_type": "markdown",
   "metadata": {},
   "source": [
    "### Introduction"
   ]
  },
  {
   "cell_type": "markdown",
   "metadata": {},
   "source": [
    "So far, we have focused on Dockerizing our flask application.  In this lesson, we'll see how we can use Docker compose to further automate configuration like port mapping, setting environmental variables, and bind mounts."
   ]
  },
  {
   "cell_type": "markdown",
   "metadata": {},
   "source": [
    "### Reviewing our Application"
   ]
  },
  {
   "cell_type": "markdown",
   "metadata": {},
   "source": [
    "When dockerizing our Flask application, we wrote code that returned a list of users upon a GET request to `/users`."
   ]
  },
  {
   "cell_type": "markdown",
   "metadata": {},
   "source": [
    "```python\n",
    "# project/__init__.py\n",
    "from flask import Flask, jsonify\n",
    "\n",
    "app = Flask(__name__)\n",
    "\n",
    "@app.route('/users')\n",
    "def index():\n",
    "    return jsonify({'users': ['bart simpson']})\n",
    "\n",
    "if __name__ == '__main__':\n",
    "    app.run(debug=True)\n",
    "```"
   ]
  },
  {
   "cell_type": "markdown",
   "metadata": {},
   "source": [
    "And we then embedded this in a docker image with the following `Dockerfile`."
   ]
  },
  {
   "cell_type": "markdown",
   "metadata": {},
   "source": [
    "```Dockerfile\n",
    "FROM python:3.7-alpine\n",
    "WORKDIR /usr/src/app\n",
    "COPY ./requirements.txt .\n",
    "RUN pip3 install -r requirements.txt\n",
    "COPY . .\n",
    "CMD [\"flask\", \"run\", \"--host=0.0.0.0\"]\n",
    "```"
   ]
  },
  {
   "cell_type": "markdown",
   "metadata": {},
   "source": [
    "And then we built our image with something like the following:\n",
    "`docker build flask_docker .`\n",
    "\n",
    "And then called `docker run` like so: "
   ]
  },
  {
   "cell_type": "markdown",
   "metadata": {},
   "source": [
    "> `docker run -p 5000:5000 -e FLASK_APP=project/__init__.py flask_docker`"
   ]
  },
  {
   "cell_type": "markdown",
   "metadata": {},
   "source": [
    "Now calling that run operation above involves a good amount of knowledge about our project.  We need to know/remember to map our ports, and to specify an environmental variable.  So let's use docker-compose to specify this configuration in `yml` file."
   ]
  },
  {
   "cell_type": "markdown",
   "metadata": {
    "tags": []
   },
   "source": [
    "### Introducing Docker Compose"
   ]
  },
  {
   "cell_type": "markdown",
   "metadata": {},
   "source": [
    "Remember that to run our image, we first need to have it built.  It turns out docker compose can help us build our image as well.\n",
    "\n",
    "Navigate to the `./users` directory, where you'll find the `docker-compose.yml` file."
   ]
  },
  {
   "cell_type": "markdown",
   "metadata": {},
   "source": [
    "In the file, you'll see a key of build, and then `context` and `dockerfile`.\n",
    "\n",
    "```yaml\n",
    "version: '3.7'\n",
    "services:\n",
    "  web:\n",
    "    build:\n",
    "      context: .\n",
    "      dockerfile: Dockerfile\n",
    "```"
   ]
  },
  {
   "cell_type": "markdown",
   "metadata": {},
   "source": [
    "This specifies the build context as `.` and  that our `Dockerfile` will build the image.  \n",
    "\n",
    "> Remember that the build context tells docker-compose where to find the Dockerfile.  It also indicates where to find files like `requirements.txt` and the `app` that are copied into the image."
   ]
  },
  {
   "cell_type": "markdown",
   "metadata": {},
   "source": [
    "Ok, now we can try building our image using the command `docker-compose build`."
   ]
  },
  {
   "cell_type": "markdown",
   "metadata": {},
   "source": [
    "<img src=\"./docker-compose-build.png\" width=\"80%\">"
   ]
  },
  {
   "cell_type": "markdown",
   "metadata": {},
   "source": [
    "Running `docker-compose build` will create a new image `users-web`."
   ]
  },
  {
   "cell_type": "markdown",
   "metadata": {},
   "source": [
    "### Running our image"
   ]
  },
  {
   "cell_type": "markdown",
   "metadata": {},
   "source": [
    "Now let's get to running our image.  We can translate the docker run command above:"
   ]
  },
  {
   "cell_type": "markdown",
   "metadata": {},
   "source": [
    "> `docker run -p 5000:5000 -e FLASK_APP=project/__init__.py flask_docker`"
   ]
  },
  {
   "cell_type": "markdown",
   "metadata": {},
   "source": [
    "To docker-compose with the following `docker-compose.yml` file:\n",
    "\n",
    "```python\n",
    "version: '3.7'\n",
    "services:\n",
    "  web:\n",
    "    image: flask_docker\n",
    "    ports:\n",
    "      - 5000:5000\n",
    "    environment:\n",
    "      - FLASK_APP=project/__init__.py\n",
    "```"
   ]
  },
  {
   "cell_type": "markdown",
   "metadata": {},
   "source": [
    "Ok, now instead of calling `docker run` directly, we can call our `docker-compose` file with the following command: \n",
    "\n",
    "* `docker-compose up`"
   ]
  },
  {
   "cell_type": "markdown",
   "metadata": {},
   "source": [
    "> We must do this from the directory that has our `docker-compose.yml` file."
   ]
  },
  {
   "cell_type": "markdown",
   "metadata": {},
   "source": [
    "<img src=\"./docker-compose-up.png\" width=\"80%\">"
   ]
  },
  {
   "cell_type": "markdown",
   "metadata": {},
   "source": [
    "And then if we make a request to [http://0.0.0.0:3000/users](http://0.0.0.0:3000/users), we'll see our json response."
   ]
  },
  {
   "cell_type": "markdown",
   "metadata": {},
   "source": [
    "<img src=\"./simpson-json.png\" width=\"60%\">"
   ]
  },
  {
   "cell_type": "markdown",
   "metadata": {},
   "source": [
    "Ok, so this looks pretty good.\n",
    "\n",
    "<img src=\"./build-users-web.png\" width=\"70%\">"
   ]
  },
  {
   "cell_type": "markdown",
   "metadata": {},
   "source": [
    "### Summary"
   ]
  },
  {
   "cell_type": "markdown",
   "metadata": {},
   "source": [
    "In this lesson we saw how we can use a `docker-compose.yml` file to specify the configuration for both building an image and running a container.  We began by translating our command for running a container from:"
   ]
  },
  {
   "cell_type": "markdown",
   "metadata": {},
   "source": [
    "`docker run -p 5000:5000 -e FLASK_APP=project/__init__.py flask_docker`"
   ]
  },
  {
   "cell_type": "markdown",
   "metadata": {},
   "source": [
    "Then, we provided configuration for building a new image with a call to the following:"
   ]
  },
  {
   "cell_type": "markdown",
   "metadata": {},
   "source": [
    "```yaml\n",
    "web:\n",
    "    build:\n",
    "      context: .\n",
    "      dockerfile: Dockerfile\n",
    "```"
   ]
  },
  {
   "cell_type": "markdown",
   "metadata": {},
   "source": [
    "### Resources"
   ]
  },
  {
   "cell_type": "markdown",
   "metadata": {},
   "source": [
    "[docker with volumes](https://www.saltycrane.com/blog/2019/01/how-run-postgresql-docker-mac-local-development/)"
   ]
  },
  {
   "cell_type": "markdown",
   "metadata": {},
   "source": [
    "http://www.ameyalokare.com/docker/2017/09/20/nginx-flask-postgres-docker-compose.html"
   ]
  }
 ],
 "metadata": {
  "kernelspec": {
   "display_name": "Python 3 (ipykernel)",
   "language": "python",
   "name": "python3"
  },
  "language_info": {
   "codemirror_mode": {
    "name": "ipython",
    "version": 3
   },
   "file_extension": ".py",
   "mimetype": "text/x-python",
   "name": "python",
   "nbconvert_exporter": "python",
   "pygments_lexer": "ipython3",
   "version": "3.9.12"
  }
 },
 "nbformat": 4,
 "nbformat_minor": 4
}
